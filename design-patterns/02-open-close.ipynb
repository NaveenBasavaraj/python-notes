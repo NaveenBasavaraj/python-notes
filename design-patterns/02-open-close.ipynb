{
 "cells": [
  {
   "cell_type": "markdown",
   "metadata": {},
   "source": [
    "## Open-Closed Principle (OCP).\n",
    "\n",
    "Definition\n",
    "\n",
    "The Open-Closed Principle states that a class, module, or function should be:\n",
    "\n",
    "Open for extension: Allow new behavior to be added without modifying the existing code.\n",
    "Closed for modification: Prevent changes to the existing code, minimizing the risk of introducing bugs or breaking existing functionality.\n",
    "Key Characteristics\n",
    "\n",
    "- Extensibility: New behavior can be added without altering the existing codebase.\n",
    "- Stability: Existing code remains unchanged, reducing the likelihood of introducing defects or disrupting current functionality.\n",
    "- Abstraction: Abstract interfaces or base classes define the contract, allowing derived classes to extend behavior without modifying the original code.\n",
    "Benefits\n",
    "\n",
    "- Reduced Risk: Minimizes the risk of introducing bugs or breaking existing functionality when adding new features.\n",
    "- Improved Maintainability: Eases maintenance by allowing developers to add new behavior without modifying existing code.\n",
    "- Enhanced Flexibility: Enables developers to adapt the system to changing requirements without compromising stability.\n",
    "- Simplified Testing: Reduces testing efforts, as new behavior can be tested independently without affecting existing code.\n",
    "\n",
    "## Design Patterns and Techniques\n",
    "\n",
    "Several design patterns and techniques support the Open-Closed Principle:\n",
    "\n",
    "- Inheritance: Derived classes inherit behavior from base classes, extending functionality without modifying the original code.\n",
    "- Polymorphism: Objects of different classes can be treated as instances of a common superclass, enabling extensibility through polymorphic behavior.\n",
    "- Interfaces: Abstract interfaces define contracts, allowing classes to implement specific behaviors without modifying the interface.\n",
    "- Composition: Composite objects contain collections of other objects, enabling extensibility through addition or removal of components.\n",
    "- Dependency Injection: Dependencies are injected into objects, rather than being hardcoded, facilitating extensibility and flexibility.\n",
    "Examples\n",
    "\n",
    "- Shape Hierarchy: A shape hierarchy with an abstract Shape class and concrete shapes like Circle, Rectangle, and Triangle. New shapes can be added without modifying the existing code.\n",
    "- Payment Gateway: A payment gateway system with an abstract PaymentGateway interface and concrete implementations like PayPal, Stripe, and BankTransfer. New payment gateways can be added without modifying the existing code.\n",
    "- Logger: A logger system with an abstract Logger interface and concrete implementations like ConsoleLogger, FileLogger, and DatabaseLogger. New loggers can be added without modifying the existing code."
   ]
  },
  {
   "cell_type": "markdown",
   "metadata": {},
   "source": []
  },
  {
   "cell_type": "code",
   "execution_count": null,
   "metadata": {},
   "outputs": [],
   "source": [
    "from abc import ABC, abstractmethod\n",
    "\n",
    "# Abstract Shape class\n",
    "class Shape(ABC):\n",
    "    @abstractmethod\n",
    "    def area(self):\n",
    "        pass\n",
    "\n",
    "# Concrete Circle class\n",
    "class Circle(Shape):\n",
    "    def __init__(self, radius):\n",
    "        self.radius = radius\n",
    "\n",
    "    def area(self):\n",
    "        return 3.14 * self.radius ** 2\n",
    "\n",
    "# Concrete Rectangle class\n",
    "class Rectangle(Shape):\n",
    "    def __init__(self, width, height):\n",
    "        self.width = width\n",
    "        self.height = height\n",
    "\n",
    "    def area(self):\n",
    "        return self.width * self.height\n",
    "\n",
    "# Adding a new Triangle shape without modifying existing code\n",
    "class Triangle(Shape):\n",
    "    def __init__(self, base, height):\n",
    "        self.base = base\n",
    "        self.height = height\n",
    "\n",
    "    def area(self):\n",
    "        return 0.5 * self.base * self.height\n",
    "\n",
    "# Using the shapes\n",
    "shapes = [Circle(5), Rectangle(4, 6), Triangle(3, 7)]\n",
    "for shape in shapes:\n",
    "    print(shape.area())"
   ]
  },
  {
   "cell_type": "code",
   "execution_count": null,
   "metadata": {},
   "outputs": [],
   "source": []
  }
 ],
 "metadata": {
  "kernelspec": {
   "display_name": "Python 3",
   "language": "python",
   "name": "python3"
  },
  "language_info": {
   "name": "python",
   "version": "3.12.9"
  }
 },
 "nbformat": 4,
 "nbformat_minor": 2
}
