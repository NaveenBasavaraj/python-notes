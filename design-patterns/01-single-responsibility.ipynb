{
 "cells": [
  {
   "cell_type": "markdown",
   "metadata": {},
   "source": [
    "## Single Responsibility Principle (SRP)\n",
    "\n",
    "The SRP states that a class should have only one reason to change, meaning it should have only one responsibility or functionality.\n",
    "\n",
    "Here are the key points to remember:\n",
    "\n",
    "- **One Class, One Job:** A class should perform only one task or have only one area of expertise.\n",
    "- **Separate Concerns:** Separate unrelated responsibilities into separate classes to avoid mixing concerns.\n",
    "- **Avoid God Objects:** Avoid creating large, complex classes that try to do everything.\n",
    "- **Change Only One Thing:** If a requirement changes, only one class should need to be modified.\n",
    "- **Easy Maintenance:** Classes with a single responsibility are easier to understand, test, and maintain."
   ]
  },
  {
   "cell_type": "code",
   "execution_count": 1,
   "metadata": {},
   "outputs": [],
   "source": [
    "class Employee:\n",
    "    def __init__(self, name, id):\n",
    "        self.name = name\n",
    "        self.id = id\n",
    "    \n",
    "    def calculate_tax(self, salary, investment_amount):\n",
    "        pass\n",
    "    \n",
    "    def export_to_csv(self):\n",
    "        pass\n",
    "\n",
    "    def save_to_database(self):\n",
    "        pass\n",
    "\n",
    "    def send_notification_email(self):\n",
    "        pass "
   ]
  },
  {
   "cell_type": "markdown",
   "metadata": {},
   "source": [
    "### In this example, the Employee class has multiple responsibilities:\n",
    "\n",
    "- Managing employee data (name, salary)\n",
    "- Calculating taxes\n",
    "- Saving data to a database\n",
    "- Sending notification emails"
   ]
  },
  {
   "cell_type": "code",
   "execution_count": 2,
   "metadata": {},
   "outputs": [],
   "source": [
    "class Employee:\n",
    "    def __init__(self, name, salary):\n",
    "        self.name = name\n",
    "        self.salary = salary\n",
    "\n",
    "class TaxCalculator:\n",
    "    def calculate_tax(self, employee):\n",
    "        # Complex tax calculation logic here\n",
    "        pass\n",
    "\n",
    "class DatabaseManager:\n",
    "    def save_employee_data(self, employee):\n",
    "        # Database interaction logic here\n",
    "        pass\n",
    "\n",
    "class NotificationService:\n",
    "    def send_notification_email(self, employee):\n",
    "        # Email sending logic here\n",
    "        pass"
   ]
  },
  {
   "cell_type": "code",
   "execution_count": null,
   "metadata": {},
   "outputs": [],
   "source": []
  }
 ],
 "metadata": {
  "kernelspec": {
   "display_name": "Python 3",
   "language": "python",
   "name": "python3"
  },
  "language_info": {
   "codemirror_mode": {
    "name": "ipython",
    "version": 3
   },
   "file_extension": ".py",
   "mimetype": "text/x-python",
   "name": "python",
   "nbconvert_exporter": "python",
   "pygments_lexer": "ipython3",
   "version": "3.12.9"
  }
 },
 "nbformat": 4,
 "nbformat_minor": 2
}
