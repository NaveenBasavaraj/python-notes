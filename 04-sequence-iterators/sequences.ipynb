{
 "cells": [
  {
   "cell_type": "markdown",
   "metadata": {},
   "source": [
    "# Sequences\n",
    "\n",
    "* A **countable** sequence of elements/items, each identified by an **Index**.\n",
    "* A sequence has **positional** ordering.\n",
    "* Index starts from 0 and not 1.\n",
    "* Example: List, String, Tuple, Range, bytearrays, array.array, collections.deque, collections.\n",
    "\n",
    "## Types\n",
    "\n",
    "| Data Structure   | Mutable | Immutable | Homogeneous | Heterogeneous | Hashable | Ordered | Allows Duplicates |\n",
    "|------------------|---------|-----------|-------------|---------------|----------|---------|-------------------|\n",
    "| `list`           | Yes     | No        | No          | Yes           | No       | Yes     | Yes               |\n",
    "| `tuple`          | No      | Yes       | No          | Yes           | Yes (if elements are hashable) | Yes | Yes |\n",
    "| `set`            | Yes     | No        | No          | Yes           | No       | No      | No                |\n",
    "| `frozenset`      | No      | Yes       | No          | Yes           | Yes      | No      | No                |\n",
    "| `dict`           | Yes     | No        | N/A         | Yes (keys must be hashable) | No | No  | No (unique keys)  |\n",
    "| `str`            | No      | Yes       | Yes         | No            | Yes      | Yes     | Yes               |\n",
    "| `bytes`          | No      | Yes       | Yes         | No            | Yes      | Yes     | Yes               |\n",
    "| `bytearray`      | Yes     | No        | Yes         | No            | No       | Yes     | Yes               |\n",
    "\n",
    "\n",
    "### Iterable vs Sequence Types\n",
    "\n",
    "* An iterable is a **container type** of object and we can list out the elements/items in that object one by one.\n",
    "\n",
    "```\n",
    "Every Sequence type is Iterable\n",
    "But every iterable is not a sequence\n",
    "\n",
    "ex: set() is iterable, but not a sequence\n",
    "```\n",
    "\n",
    "| Data Structure   | Is Iterable | Is Sequence |\n",
    "|------------------|-------------|-------------|\n",
    "| `list`           | Yes         | Yes         |\n",
    "| `tuple`          | Yes         | Yes         |\n",
    "| `str`            | Yes         | Yes         |\n",
    "| `bytes`          | Yes         | Yes         |\n",
    "| `bytearray`      | Yes         | Yes         |\n",
    "| `range`          | Yes         | Yes         |\n",
    "| `set`            | Yes         | No          |\n",
    "| `frozenset`      | Yes         | No          |\n",
    "| `dict`           | Yes (keys, values, items) | No |\n",
    "| `dict_keys`      | Yes         | No          |\n",
    "| `dict_values`    | Yes         | No          |\n",
    "| `dict_items`     | Yes         | No          |\n",
    "| `generator`      | Yes         | No          |\n",
    "| `deque`          | Yes         | Yes         |\n",
    "| `array.array`    | Yes         | Yes         |\n",
    "| `memoryview`     | Yes         | Yes         |\n",
    "| `zip`            | Yes         | No          |\n",
    "| `map`            | Yes         | No          |\n",
    "| `filter`         | Yes         | No          |\n",
    "| `reversed`       | Yes         | No          |\n",
    "| `enumerate`      | Yes         | No          |\n",
    "| `iterator`       | Yes         | No          |\n",
    "\n"
   ]
  },
  {
   "cell_type": "code",
   "execution_count": 3,
   "metadata": {},
   "outputs": [
    {
     "name": "stdout",
     "output_type": "stream",
     "text": [
      "orange\n",
      "bran\n"
     ]
    }
   ],
   "source": [
    "fruits = ['apple', 'mango','orange','banana'] # mutable and heterogenous\n",
    "names = ('james', 'king', 'bran', 1234568) # immutable and heterogenous\n",
    "\n",
    "any_fruit = fruits[2]\n",
    "any_name = names[2]\n",
    "\n",
    "print(any_fruit)\n",
    "print(any_name)\n"
   ]
  },
  {
   "cell_type": "code",
   "execution_count": 4,
   "metadata": {},
   "outputs": [
    {
     "name": "stdout",
     "output_type": "stream",
     "text": [
      "a\n"
     ]
    }
   ],
   "source": [
    "# string also positional ordering\n",
    "\n",
    "print(any_fruit[2]) # immutable and homogenous"
   ]
  },
  {
   "cell_type": "code",
   "execution_count": 8,
   "metadata": {},
   "outputs": [
    {
     "name": "stdout",
     "output_type": "stream",
     "text": [
      "('james', 'j')\n",
      "('king', 'a')\n",
      "('bran', 'm')\n",
      "(1234568, 'e')\n"
     ]
    }
   ],
   "source": [
    "# sequences are iterables\n",
    "for name in zip(names, names[0]):\n",
    "    print(name)"
   ]
  },
  {
   "cell_type": "code",
   "execution_count": 9,
   "metadata": {},
   "outputs": [
    {
     "ename": "TypeError",
     "evalue": "'set' object is not subscriptable",
     "output_type": "error",
     "traceback": [
      "\u001b[0;31m---------------------------------------------------------------------------\u001b[0m",
      "\u001b[0;31mTypeError\u001b[0m                                 Traceback (most recent call last)",
      "Cell \u001b[0;32mIn[9], line 3\u001b[0m\n\u001b[1;32m      1\u001b[0m \u001b[38;5;66;03m# set is an iterable and does not support indexing\u001b[39;00m\n\u001b[1;32m      2\u001b[0m x \u001b[38;5;241m=\u001b[39m {\u001b[38;5;241m1\u001b[39m,\u001b[38;5;241m2\u001b[39m,\u001b[38;5;241m3\u001b[39m,\u001b[38;5;124m'\u001b[39m\u001b[38;5;124masdasd\u001b[39m\u001b[38;5;124m'\u001b[39m}\n\u001b[0;32m----> 3\u001b[0m \u001b[43mx\u001b[49m\u001b[43m[\u001b[49m\u001b[38;5;241;43m0\u001b[39;49m\u001b[43m]\u001b[49m\n",
      "\u001b[0;31mTypeError\u001b[0m: 'set' object is not subscriptable"
     ]
    }
   ],
   "source": [
    "# set is an iterable and does not support indexing\n",
    "x = {1,2,3,'asdasd'}\n",
    "x[0]"
   ]
  },
  {
   "cell_type": "markdown",
   "metadata": {},
   "source": [
    "## General Sequence Operations\n",
    "\n",
    "| Operation/Method    | Description                                                        | Applicable to All Sequences? |\n",
    "|---------------------|--------------------------------------------------------------------|------------------------------|\n",
    "| `x in s`            | Checks if `x` is in sequence `s`                                   | Yes                          |\n",
    "| `x not in s`        | Checks if `x` is not in sequence `s`                               | Yes                          |\n",
    "| `s + t`             | Concatenates sequences `s` and `t`                                 | Yes (except `set`, `dict`)    |\n",
    "| `s * n`             | Repeats sequence `s` `n` times                                     | Yes                          |\n",
    "| `s[i]`              | Accesses the element at index `i` in sequence `s`                  | Yes                          |\n",
    "| `s[i:j]`            | Slices the sequence `s` from index `i` to `j`                      | Yes                          |\n",
    "| `len(s)`            | Returns the length of sequence `s`                                 | Yes                          |\n",
    "| `min(s)`            | Returns the smallest element in sequence `s`                       | Yes                          |\n",
    "| `max(s)`            | Returns the largest element in sequence `s`                        | Yes                          |\n",
    "| `sum(s)`            | Sums elements of the sequence `s` (numeric)                        | Yes (if numeric)             |\n",
    "| `s.index(x)`        | Returns the first index of element `x` in sequence `s`             | Yes                          |\n",
    "| `s.count(x)`        | Counts occurrences of element `x` in sequence `s`                  | Yes                          |\n",
    "| `reversed(s)`       | Returns a reversed iterator for sequence `s`                       | Yes                          |\n",
    "| `sorted(s)`         | Returns a sorted list of the elements of sequence `s`              | Yes                          |\n",
    "| `s.clear()`         | Removes all elements from sequence `s`                             | No (only mutable types)       |\n",
    "| `s.append(x)`       | Adds element `x` to the end of sequence `s`                        | No (only mutable types)       |\n",
    "| `s.extend(t)`       | Adds all elements of sequence `t` to the end of sequence `s`       | No (only mutable types)       |\n",
    "| `s.insert(i, x)`    | Inserts element `x` at index `i` in sequence `s`                   | No (only mutable types)       |\n",
    "| `s.pop(i)`          | Removes and returns the element at index `i` (last by default)     | No (only mutable types)       |\n",
    "| `s.remove(x)`       | Removes the first occurrence of element `x` in sequence `s`        | No (only mutable types)       |\n",
    "| `s.copy()`          | Returns a shallow copy of sequence `s`                             | No (only mutable types)       |\n",
    "| `separator.join(s)` | Concatenates elements of sequence `s` into a single string, separated by `separator` | No (only for sequences of strings) |\n",
    "\n",
    "\n",
    "## Commonly Used Sequence Types and Supported Methods/Operations\n",
    "\n",
    "| Sequence Type | `append()` | `extend()` | `insert()` | `pop()` | `remove()` | `clear()` | `copy()` | Concatenation (`+`) | Multiplication (`*`) | `index()` | `count()` | Slicing (`[:]`) | `.join()` |\n",
    "|---------------|------------|------------|------------|---------|------------|-----------|----------|----------------------|-----------------------|-----------|-----------|----------------|-----------|\n",
    "| `list`        | Yes        | Yes        | Yes        | Yes     | Yes        | Yes       | Yes      | Yes                  | Yes                   | Yes       | Yes       | Yes            | No        |\n",
    "| `tuple`       | No         | No         | No         | No      | No         | No        | No       | Yes                  | Yes                   | Yes       | Yes       | Yes            | No        |\n",
    "| `str`         | No         | No         | No         | No      | No         | No        | No       | Yes                  | Yes                   | Yes       | Yes       | Yes            | Yes       |\n",
    "| `bytes`       | No         | No         | No         | No      | No         | No        | No       | Yes                  | Yes                   | Yes       | Yes       | Yes            | No        |\n",
    "| `bytearray`   | Yes        | Yes        | Yes        | Yes     | Yes        | Yes       | Yes      | Yes                  | Yes                   | Yes       | Yes       | Yes            | No        |\n",
    "| `set`         | No         | No         | No         | No      | No         | Yes       | No       | No                   | No                    | No        | No        | No             | No        |\n",
    "| `dict`        | No         | No         | No         | No      | No         | Yes       | Yes      | No                   | No                    | No        | No        | No             | No        |\n",
    "| `range`       | No         | No         | No         | No      | No         | No        | No       | Yes                  | Yes                   | No        | No        | Yes            | No        |\n",
    "| `deque`       | Yes        | Yes        | Yes        | Yes     | Yes        | Yes       | Yes      | No                   | No                    | Yes       | Yes       | Yes            | No        |\n",
    "\n"
   ]
  },
  {
   "cell_type": "code",
   "execution_count": 14,
   "metadata": {},
   "outputs": [
    {
     "name": "stdout",
     "output_type": "stream",
     "text": [
      "True\n",
      "True\n",
      "True\n",
      "A\n"
     ]
    }
   ],
   "source": [
    "print(1 in [1,2,3,4,5])\n",
    "print(60 not in (1,2,3,4,5))\n",
    "print('a' in 'avbcasd')\n",
    "\n",
    "print(min('Aavbcasd'))\n",
    "print(max('Aavbcasd'))\n",
    "\n"
   ]
  },
  {
   "cell_type": "code",
   "execution_count": 17,
   "metadata": {},
   "outputs": [
    {
     "name": "stdout",
     "output_type": "stream",
     "text": [
      "['n', 'e', 'e', 'v', 'a', 'n']\n"
     ]
    }
   ],
   "source": [
    "print(list(reversed('naveen')))"
   ]
  },
  {
   "cell_type": "code",
   "execution_count": 18,
   "metadata": {},
   "outputs": [
    {
     "name": "stdout",
     "output_type": "stream",
     "text": [
      "['a', 'e', 'e', 'n', 'n', 'v']\n"
     ]
    }
   ],
   "source": [
    "print(list(sorted('naveen')))"
   ]
  },
  {
   "cell_type": "code",
   "execution_count": 19,
   "metadata": {},
   "outputs": [
    {
     "data": {
      "text/plain": [
       "'tata$$$$bajaj$$$$ipo'"
      ]
     },
     "execution_count": 19,
     "metadata": {},
     "output_type": "execute_result"
    }
   ],
   "source": [
    "\"$$$$\".join(['tata','bajaj','ipo'])"
   ]
  },
  {
   "cell_type": "code",
   "execution_count": 20,
   "metadata": {},
   "outputs": [
    {
     "data": {
      "text/plain": [
       "('m',\n",
       " 'y',\n",
       " ' ',\n",
       " 'n',\n",
       " 'a',\n",
       " 'm',\n",
       " 'e',\n",
       " ' ',\n",
       " 'i',\n",
       " 's',\n",
       " ' ',\n",
       " 'p',\n",
       " 'y',\n",
       " 't',\n",
       " 'h',\n",
       " 'o',\n",
       " 'n')"
      ]
     },
     "execution_count": 20,
     "metadata": {},
     "output_type": "execute_result"
    }
   ],
   "source": [
    "tuple('my name is python')"
   ]
  },
  {
   "cell_type": "code",
   "execution_count": 22,
   "metadata": {},
   "outputs": [
    {
     "name": "stdout",
     "output_type": "stream",
     "text": [
      "(0, 'h')\n",
      "(1, 'e')\n",
      "(2, 'l')\n",
      "(3, 'l')\n",
      "(4, 'o')\n",
      "(5, ' ')\n",
      "(6, 'w')\n",
      "(7, 'o')\n",
      "(8, 'r')\n",
      "(9, 'l')\n",
      "(10, 'd')\n"
     ]
    }
   ],
   "source": [
    "for chr in enumerate('hello world'):\n",
    "    print(chr)"
   ]
  },
  {
   "cell_type": "code",
   "execution_count": 25,
   "metadata": {},
   "outputs": [
    {
     "name": "stdout",
     "output_type": "stream",
     "text": [
      "1\n",
      "7\n",
      "4\n"
     ]
    }
   ],
   "source": [
    "x = tuple('hello world')\n",
    "print(x.index('e'))\n",
    "print(x.index('o', 6))\n",
    "print(x.index('o', 3,5))"
   ]
  },
  {
   "cell_type": "code",
   "execution_count": null,
   "metadata": {},
   "outputs": [],
   "source": []
  }
 ],
 "metadata": {
  "kernelspec": {
   "display_name": "Python 3",
   "language": "python",
   "name": "python3"
  },
  "language_info": {
   "codemirror_mode": {
    "name": "ipython",
    "version": 3
   },
   "file_extension": ".py",
   "mimetype": "text/x-python",
   "name": "python",
   "nbconvert_exporter": "python",
   "pygments_lexer": "ipython3",
   "version": "3.12.6"
  }
 },
 "nbformat": 4,
 "nbformat_minor": 2
}
