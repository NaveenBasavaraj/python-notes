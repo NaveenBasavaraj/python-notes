{
 "cells": [
  {
   "cell_type": "markdown",
   "metadata": {},
   "source": [
    "# Mutating an object\n",
    "\n",
    "1. Every object has a **memory address** and a **state**.\n",
    "2. Mutation means changing the state of an object without creating a new object\n",
    "3. i.e new memory address is not created\n",
    "\n",
    "| Operation/Method       | Causes Mutation? | Sample Code                                      |\n",
    "|------------------------|------------------|--------------------------------------------------|\n",
    "| `append()`             | Yes              | `lst = [1, 2]; lst.append(3)`                    |\n",
    "| `extend()`             | Yes              | `lst = [1, 2]; lst.extend([3, 4])`               |\n",
    "| `insert()`             | Yes              | `lst = [1, 2]; lst.insert(1, 3)`                 |\n",
    "| `pop()`                | Yes              | `lst = [1, 2, 3]; lst.pop(1)`                    |\n",
    "| `remove()`             | Yes              | `lst = [1, 2, 3]; lst.remove(2)`                 |\n",
    "| `clear()`              | Yes              | `lst = [1, 2, 3]; lst.clear()`                   |\n",
    "| `sort()`               | Yes              | `lst = [3, 1, 2]; lst.sort()`                    |\n",
    "| `reverse()`            | Yes              | `lst = [1, 2, 3]; lst.reverse()`                 |\n",
    "| `+=` (for mutable types) | Yes            | `lst = [1, 2]; lst += [3, 4]`                    |\n",
    "| `copy()`               | No (shallow copy) | `lst = [1, 2]; copy_lst = lst.copy()`            |\n",
    "| `+`                    | No               | `lst = [1, 2]; new_lst = lst + [3, 4]`           |\n",
    "| `*`                    | No               | `lst = [1, 2]; new_lst = lst * 2`                |\n",
    "| `sorted()`             | No               | `lst = [3, 1, 2]; new_lst = sorted(lst)`         |\n",
    "| `reversed()`           | No               | `lst = [1, 2, 3]; rev_lst = list(reversed(lst))` |\n",
    "| `index()`              | No               | `lst = [1, 2, 3]; idx = lst.index(2)`            |\n",
    "| `count()`              | No               | `lst = [1, 2, 2, 3]; cnt = lst.count(2)`         |\n",
    "| `slicing ([:])`        | No               | `lst = [1, 2, 3]; sub_lst = lst[1:3]`            |\n",
    "| `in`                   | No               | `1 in [1, 2, 3]`                                |\n",
    "| `not in`               | No               | `4 not in [1, 2, 3]`                            |\n",
    "| `.join()`              | No               | `\", \".join([\"a\", \"b\", \"c\"])`                     |\n",
    "| `len()`                | No               | `lst = [1, 2, 3]; length = len(lst)`             |\n",
    "| `max()`                | No               | `lst = [1, 2, 3]; max_val = max(lst)`            |\n",
    "| `min()`                | No               | `lst = [1, 2, 3]; min_val = min(lst)`            |\n",
    "| `sum()`                | No               | `lst = [1, 2, 3]; total = sum(lst)`              |\n"
   ]
  },
  {
   "cell_type": "code",
   "execution_count": 3,
   "metadata": {},
   "outputs": [
    {
     "name": "stdout",
     "output_type": "stream",
     "text": [
      "[1, 2, 3] 140449208072704\n",
      "[1, 2, 3, 4] 140449208072704\n"
     ]
    }
   ],
   "source": [
    "# new address not created\n",
    "x = [1,2,3]\n",
    "print(x, id(x))\n",
    "x.append(4)\n",
    "print(x, id(x))"
   ]
  },
  {
   "cell_type": "code",
   "execution_count": 6,
   "metadata": {},
   "outputs": [
    {
     "name": "stdout",
     "output_type": "stream",
     "text": [
      "140449208072704\n",
      "140449458882368\n",
      "140449198141696\n"
     ]
    }
   ],
   "source": [
    "# new address created everytime\n",
    "print(id(x))\n",
    "print(id(x[:]))\n",
    "print(id(x[:1]))"
   ]
  },
  {
   "cell_type": "code",
   "execution_count": null,
   "metadata": {},
   "outputs": [],
   "source": []
  }
 ],
 "metadata": {
  "kernelspec": {
   "display_name": "Python 3",
   "language": "python",
   "name": "python3"
  },
  "language_info": {
   "codemirror_mode": {
    "name": "ipython",
    "version": 3
   },
   "file_extension": ".py",
   "mimetype": "text/x-python",
   "name": "python",
   "nbconvert_exporter": "python",
   "pygments_lexer": "ipython3",
   "version": "3.12.6"
  }
 },
 "nbformat": 4,
 "nbformat_minor": 2
}
