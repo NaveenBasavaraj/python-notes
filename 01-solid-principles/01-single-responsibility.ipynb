{
 "cells": [
  {
   "cell_type": "markdown",
   "metadata": {},
   "source": [
    "# SRP - Single Reponsibility Priciple\n",
    "### Seperation of Concern Principle\n",
    "- A class should have a **primary responsibility**\n",
    "- And it should not take any responsibility other than the **primary responsibility**\n"
   ]
  },
  {
   "cell_type": "code",
   "execution_count": 1,
   "metadata": {},
   "outputs": [],
   "source": [
    "class Journal:\n",
    "    '''\n",
    "    primary responsibility: storing and removing entries\n",
    "    '''\n",
    "    def __init__(self):\n",
    "        self.entries = []\n",
    "        self.count = 0\n",
    "    \n",
    "    def add_entry(self, text):\n",
    "        self.count += 1\n",
    "        self.entries.append(f'{self.count}: {text}')\n",
    "    \n",
    "    def remove_entry(self, pos):\n",
    "        del self.entries[pos]\n",
    "    \n",
    "    def __str__(self):\n",
    "        return '\\n'.join(self.entries)"
   ]
  },
  {
   "cell_type": "code",
   "execution_count": null,
   "metadata": {},
   "outputs": [],
   "source": []
  }
 ],
 "metadata": {
  "kernelspec": {
   "display_name": "Python 3",
   "language": "python",
   "name": "python3"
  },
  "language_info": {
   "codemirror_mode": {
    "name": "ipython",
    "version": 3
   },
   "file_extension": ".py",
   "mimetype": "text/x-python",
   "name": "python",
   "nbconvert_exporter": "python",
   "pygments_lexer": "ipython3",
   "version": "3.12.6"
  }
 },
 "nbformat": 4,
 "nbformat_minor": 2
}
